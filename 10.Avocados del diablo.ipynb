{
 "cells": [
  {
   "cell_type": "markdown",
   "id": "4566b8b5-d2f5-4b22-abbb-9badd101505b",
   "metadata": {},
   "source": [
    "Autores: ...."
   ]
  },
  {
   "cell_type": "markdown",
   "id": "20b77873-6dfd-4d3b-9759-6794fbbf7301",
   "metadata": {},
   "source": [
    "### EDA"
   ]
  },
  {
   "cell_type": "markdown",
   "id": "aab21479-5519-4a36-8f09-69dde6034bd6",
   "metadata": {},
   "source": [
    "#### Normalización de datos y validación"
   ]
  },
  {
   "cell_type": "markdown",
   "id": "817d6582-bbe6-4043-96a4-36e1191cee31",
   "metadata": {},
   "source": [
    "* Utilizamos info() para revisar la estructura y los tipos de datos del conjunto.\n",
    "    * Los detalles concretos con shape, columns o dtypes.\n",
    "* Clasificación de región en Regiones y Ciudades\n",
    "* Explorar datos, fechas, nulos, columnas innecesarias\n",
    "* Discusión sobre qué hacer con los datos de semanas que faltan (interpolante)"
   ]
  },
  {
   "cell_type": "markdown",
   "id": "c276c509",
   "metadata": {},
   "source": [
    "##### Mostrar la estructura de datos del dataset avocados"
   ]
  },
  {
   "cell_type": "code",
   "execution_count": null,
   "id": "647c27f3",
   "metadata": {},
   "outputs": [],
   "source": [
    "import pandas as pd\n",
    "import avocado_manager as av\n",
    "av.init()\n",
    "df_cp = av.df(\"df_cp\")\n",
    "print(df_cp.info())\n",
    "\n",
    "#data_shape = df_cp.shape\n",
    "#print(f\"\\nForma del DataFrame (filas, columnas): {data_shape}\")\n",
    "\n",
    "#column_names = df_cp.columns\n",
    "#print(f\"\\nNombres de Columnas: {column_names}\")\n",
    " \n",
    "#data_types = df_cp.dtypes\n",
    "#print(f\"\\nTipos de datos de cada columna:\\n{data_types}\")"
   ]
  },
  {
   "cell_type": "code",
   "execution_count": 107,
   "id": "2687b6e0",
   "metadata": {},
   "outputs": [],
   "source": [
    "##### Nuestra clasifiacion de clases de regiones"
   ]
  },
  {
   "cell_type": "code",
   "execution_count": null,
   "id": "2a394b5a",
   "metadata": {},
   "outputs": [],
   "source": [
    "print(\"Nuestra clasifiacion de clases de regiones:\",pd.unique(df_cp['region_class']))\n",
    "display(df_cp.head(5))"
   ]
  },
  {
   "cell_type": "markdown",
   "id": "4dd31ff9",
   "metadata": {},
   "source": [
    "##### Mostrar las regions top 10 por Total Volume"
   ]
  },
  {
   "cell_type": "code",
   "execution_count": null,
   "id": "77650099",
   "metadata": {},
   "outputs": [],
   "source": [
    "\n",
    "df_totales = df_cp.groupby('region')['Total Volume'].sum().reset_index()\n",
    "display(df_totales.nlargest(10,'Total Volume').sort_values(by='Total Volume', ascending = False))\n",
    "#df_largest = av.df(\"region_largest\")\n",
    "#display(df_largest)"
   ]
  },
  {
   "cell_type": "markdown",
   "id": "847d23e6",
   "metadata": {},
   "source": [
    "##### Identificar fechas faltantes por cada region"
   ]
  },
  {
   "cell_type": "code",
   "execution_count": null,
   "id": "eba299f8",
   "metadata": {},
   "outputs": [],
   "source": [
    "\n",
    "import matplotlib.pyplot as plt\n",
    "df_count = df_cp.groupby(['Date', 'region']).size().reset_index(name='Total')\n",
    "df_pivot = df_count.pivot(index='Date', columns='region', values='Total').fillna(0)\n",
    "diferencias = df_pivot.apply(lambda x: x.nunique() > 1, axis=0)\n",
    "\n",
    "regiones_con_diferencias = diferencias[diferencias].index.tolist()\n",
    "df_pivot[regiones_con_diferencias].plot(kind='line', marker='o',figsize=(16, 3))\n",
    "plt.title('Número de filas(registros) por Región a lo largo del tiempo')\n",
    "plt.xlabel('Fecha')\n",
    "plt.ylabel('Total de Registros')\n",
    "plt.legend(title='Regiones:')\n",
    "plt.grid(); plt.tight_layout() #plt.xticks(rotation=90)\n",
    "plt.show()"
   ]
  },
  {
   "cell_type": "markdown",
   "id": "513e5171",
   "metadata": {},
   "source": [
    "#### Realiza un análisis exploratorio para entender la estructura del conjunto, incluyendo el número de filas y columnas, tipos de datos y valores faltantes. \n",
    "\n",
    "* Imprime la cantidad de valores faltantes por columna utilizando isnull()."
   ]
  },
  {
   "cell_type": "code",
   "execution_count": null,
   "id": "1f7c722f",
   "metadata": {},
   "outputs": [],
   "source": [
    "print(f\"Cantidad de nulls: {df_cp.isnull().sum()}\")\n",
    "#df.isnull\n",
    "#missing_values = pd.isnull(df)\n",
    "\n",
    "# series de tiempo\n",
    "df_cp['Date'] = pd.to_datetime(df_cp['Date'])\n",
    "ventas_mensual = df_cp.groupby(df_cp['Date'].dt.to_period(\"M\"))['Total Volume'].sum()\n",
    "display(ventas_mensual)\n",
    "\n",
    "# Resumen Estadístico\n",
    "data_summary = df_cp.describe()\n",
    "print(\"\\nResumen Estadístico:\")\n",
    "print(data_summary)"
   ]
  },
  {
   "cell_type": "markdown",
   "id": "009c2556-2f00-45f8-863b-9127d8a39e10",
   "metadata": {},
   "source": [
    "#### Visión global de datos"
   ]
  },
  {
   "cell_type": "markdown",
   "id": "34d20ad4-76ba-420a-bc2e-5669caee797d",
   "metadata": {},
   "source": [
    "* Analisis de Series Temporales y Ruido asociado\n",
    "* Precios promedio calibre \n",
    "* Precios promedio por bolsa\n",
    "* Separar alvocats convencionals i alvocats orgànics\n",
    "* Comparación precios promedio convencional y organico\n",
    "* Representación de ventas totales sobre precio promedio ( por regiones o no )"
   ]
  },
  {
   "cell_type": "markdown",
   "id": "0c5aa662-d255-45f0-9281-2f221a36eee2",
   "metadata": {},
   "source": [
    "### ANALISIS"
   ]
  },
  {
   "cell_type": "markdown",
   "id": "50f15efe-2d06-486a-bc4d-4f4679974a10",
   "metadata": {},
   "source": [
    "#### Separar alvocats convencionals i alvocats orgànics"
   ]
  },
  {
   "cell_type": "markdown",
   "id": "410f1e5e-6277-44ba-8670-02f23a7f9aab",
   "metadata": {},
   "source": [
    "#### Impacte del preu en les vendes"
   ]
  },
  {
   "cell_type": "markdown",
   "id": "edaa99db-948c-4549-8772-acb13b6a62a1",
   "metadata": {},
   "source": [
    "#### Correlacion de les \"grans regions\" i regions amb volum total US"
   ]
  },
  {
   "cell_type": "markdown",
   "id": "68bd45dd-adad-43ec-b9b9-9589c8524398",
   "metadata": {},
   "source": [
    "#### Correlacion de volum total de les ciutats amb volum total US"
   ]
  },
  {
   "cell_type": "markdown",
   "id": "b6d751ef-4246-4b9b-a3d7-cd5875cd7cea",
   "metadata": {},
   "source": [
    "#### Elasticidad"
   ]
  },
  {
   "cell_type": "markdown",
   "id": "3a241231-da66-45b0-a1e9-312a097b8a68",
   "metadata": {},
   "source": [
    "#### Analisis por Cohortes"
   ]
  },
  {
   "cell_type": "markdown",
   "id": "25a22816-4593-48bc-881f-6e99bdffd32c",
   "metadata": {},
   "source": [
    "#### Matriz de correlaciones de todas las variables según  apartado 5.6. En especial, precio medio y relación con diferentes calibres."
   ]
  },
  {
   "cell_type": "markdown",
   "id": "8dd1949c-5d41-41e5-b6f8-8dd2998f74ad",
   "metadata": {},
   "source": [
    "#### Dispersión entre variables claves según 5.2"
   ]
  },
  {
   "cell_type": "markdown",
   "id": "bd0e0977-e5e3-4188-959d-6e07b1fcdedb",
   "metadata": {},
   "source": [
    "### REGRESIONES Y PROYECCIONES"
   ]
  },
  {
   "cell_type": "markdown",
   "id": "80cf10f8-550c-4a64-b03d-087a75aeb679",
   "metadata": {},
   "source": [
    "#### Creación del modelo de regresión"
   ]
  },
  {
   "cell_type": "markdown",
   "id": "0578f063-30cd-46da-b352-89f2c68369d1",
   "metadata": {},
   "source": [
    "#### Creación de modelo predictivo de ventas por MES usando los datos de años anteriores ( lineal y polinomica ) Calculo R2"
   ]
  },
  {
   "cell_type": "markdown",
   "id": "84bdee54-da39-4fe6-b1f1-ac4bf2e79ee2",
   "metadata": {},
   "source": [
    "#### Creación de modelo predictivo de ventas por TRIMESTRE usando los datos de años anteriores ( lineal y polinomica ) Calculo R2"
   ]
  },
  {
   "cell_type": "markdown",
   "id": "b25d9d7d-7f74-49e8-bbb6-c126f189db86",
   "metadata": {},
   "source": [
    "#### Creación de modelo predictivo de ventas por AÑO usando los datos de años anteriores ( lineal y polinomica ) Calculo R2"
   ]
  },
  {
   "cell_type": "markdown",
   "id": "2078943b-6b5c-4efa-a7e9-13b524426e5e",
   "metadata": {},
   "source": [
    "#### Modelos de regresión multiple entre todas las variables según  apartado 5.6. En especial, precio medio y relación con diferentes calibres.Precio vs Total Bags"
   ]
  },
  {
   "cell_type": "markdown",
   "id": "34bcd7b8-e5cf-4580-9993-c5303913d1d6",
   "metadata": {},
   "source": [
    "#### Analisis de coeficientes de regresion multiple. Afectación de cada variable al AvgPrice apartado 5.7"
   ]
  },
  {
   "cell_type": "markdown",
   "id": "ac85fcde-da51-4e8d-bde8-969d37c74269",
   "metadata": {},
   "source": [
    "#### Modelos de regresión para diferenciar volumenes de ventas Apartado 5.8 . Calibres y AveragePrice."
   ]
  },
  {
   "cell_type": "markdown",
   "id": "02ae63d1-b66d-48aa-94db-cdd51937a0e1",
   "metadata": {},
   "source": [
    "#### Creación de modelo de regresión y polinómica de ventas totales sobre precio promedio ( por regiones o no ) apartado 5.9"
   ]
  },
  {
   "cell_type": "markdown",
   "id": "82b9f52b-f3b1-4f7e-a029-822d36108ac8",
   "metadata": {},
   "source": [
    "#### Predicciones"
   ]
  },
  {
   "cell_type": "markdown",
   "id": "044bc252-a26d-4d42-9ed7-9ad00d910b10",
   "metadata": {},
   "source": [
    "#### Prediccion de precio promedio según volumen aguacates y por tipo ( y por calibres ??) . Lineal y Polinomica. Calculo de R2"
   ]
  }
 ],
 "metadata": {
  "kernelspec": {
   "display_name": "usr",
   "language": "python",
   "name": "python3"
  },
  "language_info": {
   "codemirror_mode": {
    "name": "ipython",
    "version": 3
   },
   "file_extension": ".py",
   "mimetype": "text/x-python",
   "name": "python",
   "nbconvert_exporter": "python",
   "pygments_lexer": "ipython3",
   "version": "3.12.3"
  }
 },
 "nbformat": 4,
 "nbformat_minor": 5
}
