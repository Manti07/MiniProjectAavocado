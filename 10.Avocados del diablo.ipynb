{
 "cells": [
  {
   "cell_type": "markdown",
   "id": "4566b8b5-d2f5-4b22-abbb-9badd101505b",
   "metadata": {},
   "source": [
    "Autores: ...."
   ]
  },
  {
   "cell_type": "markdown",
   "id": "20b77873-6dfd-4d3b-9759-6794fbbf7301",
   "metadata": {},
   "source": [
    "### EDA"
   ]
  },
  {
   "cell_type": "markdown",
   "id": "aab21479-5519-4a36-8f09-69dde6034bd6",
   "metadata": {},
   "source": [
    "#### Normalización de datos y validación"
   ]
  },
  {
   "cell_type": "markdown",
   "id": "817d6582-bbe6-4043-96a4-36e1191cee31",
   "metadata": {},
   "source": [
    "* Utilizamos info() para revisar la estructura y los tipos de datos del conjunto.\n",
    "    * Los detalles concretos con shape, columns o dtypes.\n",
    "* Clasificación de región en Regiones y Ciudades\n",
    "* Explorar datos, fechas, nulos, columnas innecesarias\n",
    "* Discusión sobre qué hacer con los datos de semanas que faltan (interpolante)"
   ]
  },
  {
   "cell_type": "markdown",
   "id": "c276c509",
   "metadata": {},
   "source": [
    "##### Mostrar la estructura de datos del dataset avocados"
   ]
  },
  {
   "cell_type": "code",
   "execution_count": null,
   "id": "647c27f3",
   "metadata": {},
   "outputs": [],
   "source": [
    "import pandas as pd\n",
    "import seaborn as sns\n",
    "import matplotlib.pyplot as plt\n",
    "from statsmodels.tsa.seasonal import seasonal_decompose\n",
    "import avocado_manager as av\n",
    "av.init()\n",
    "df_cp = av.df(\"df_cp\")\n",
    "print(df_cp.info())"
   ]
  },
  {
   "cell_type": "code",
   "execution_count": null,
   "id": "2eb15fd1",
   "metadata": {},
   "outputs": [],
   "source": [
    "data_shape = df_cp.shape\n",
    "print(f\"\\nForma del DataFrame (filas, columnas): {data_shape}\")\n",
    "\n",
    "column_names = df_cp.columns\n",
    "print(f\"\\nNombres de Columnas: {column_names}\")\n",
    " \n",
    "data_types = df_cp.dtypes\n",
    "print(f\"\\nTipos de datos de cada columna:\\n{data_types}\")"
   ]
  },
  {
   "cell_type": "markdown",
   "id": "2687b6e0",
   "metadata": {},
   "source": [
    "##### Nuestra clasifiacion de clases de regiones"
   ]
  },
  {
   "cell_type": "code",
   "execution_count": null,
   "id": "2a394b5a",
   "metadata": {},
   "outputs": [],
   "source": [
    "print(\"Nuestra clasifiacion de clases de regiones:\",pd.unique(df_cp['region_class']))\n",
    "display(df_cp.head(5))"
   ]
  },
  {
   "cell_type": "markdown",
   "id": "4dd31ff9",
   "metadata": {},
   "source": [
    "##### Mostrar las regions top 10 por Total Volume"
   ]
  },
  {
   "cell_type": "code",
   "execution_count": null,
   "id": "77650099",
   "metadata": {},
   "outputs": [],
   "source": [
    "df_totales = df_cp.groupby('region')['Total Volume'].sum().reset_index()\n",
    "display(df_totales.nlargest(10,'Total Volume').sort_values(by='Total Volume', ascending = False))\n",
    "#df_largest = av.df(\"region_largest\")\n",
    "#display(df_largest)"
   ]
  },
  {
   "cell_type": "markdown",
   "id": "847d23e6",
   "metadata": {},
   "source": [
    "##### Identificar fechas faltantes por cada region"
   ]
  },
  {
   "cell_type": "code",
   "execution_count": null,
   "id": "eba299f8",
   "metadata": {},
   "outputs": [],
   "source": [
    "df_count = df_cp.groupby(['Date', 'region']).size().reset_index(name='Total')\n",
    "df_pivot = df_count.pivot(index='Date', columns='region', values='Total').fillna(0)\n",
    "diferencias = df_pivot.apply(lambda x: x.nunique() > 1, axis=0)\n",
    "\n",
    "regiones_con_diferencias = diferencias[diferencias].index.tolist()\n",
    "df_pivot[regiones_con_diferencias].plot(kind='line', marker='o',figsize=(16, 3))\n",
    "plt.title('Número de filas(registros) por Región a lo largo del tiempo')\n",
    "plt.xlabel('Fecha')\n",
    "plt.ylabel('Total de Registros')\n",
    "plt.legend(title='Regiones:')\n",
    "plt.grid(); plt.tight_layout() #plt.xticks(rotation=90)\n",
    "plt.show()"
   ]
  },
  {
   "cell_type": "markdown",
   "id": "513e5171",
   "metadata": {},
   "source": [
    "##### Realiza un análisis exploratorio para entender la estructura del conjunto, incluyendo el número de filas y columnas, tipos de datos y valores faltantes. \n",
    "\n",
    "* Imprime la cantidad de valores faltantes por columna utilizando isnull()."
   ]
  },
  {
   "cell_type": "code",
   "execution_count": null,
   "id": "1f7c722f",
   "metadata": {},
   "outputs": [],
   "source": [
    "print(f\"Cantidad de nulls: {df_cp.isnull().sum()}\")\n",
    "#df.isnull\n",
    "#missing_values = pd.isnull(df)\n",
    "\n",
    "# Resumen Estadístico\n",
    "data_summary = df_cp.describe()\n",
    "print(\"\\nResumen Estadístico:\")\n",
    "print(data_summary)\n",
    "\n",
    "# series de tiempo\n",
    "print(\"\\nseries de tiempo:\")\n",
    "df_cp['Date'] = pd.to_datetime(df_cp['Date'])\n",
    "ventas_mensual = df_cp.groupby(df_cp['Date'].dt.to_period(\"M\"))['Total Volume'].sum().reset_index()\n",
    "display(ventas_mensual)"
   ]
  },
  {
   "cell_type": "markdown",
   "id": "009c2556-2f00-45f8-863b-9127d8a39e10",
   "metadata": {},
   "source": [
    "#### Visión global de datos"
   ]
  },
  {
   "cell_type": "markdown",
   "id": "34d20ad4-76ba-420a-bc2e-5669caee797d",
   "metadata": {},
   "source": [
    "* Analisis de Series Temporales y Ruido asociado\n",
    "* Precios promedio calibre \n",
    "* Precios promedio por bolsa\n",
    "* Separar avocados convencional y organics\n",
    "* Comparación precios promedio convencional y organico\n",
    "* Representación de ventas totales sobre precio promedio ( por regiones o no )"
   ]
  },
  {
   "cell_type": "markdown",
   "id": "4fd77163",
   "metadata": {},
   "source": [
    "##### Analisis de Series Temporales y Ruido asociado"
   ]
  },
  {
   "cell_type": "code",
   "execution_count": null,
   "id": "ecdb6ff3",
   "metadata": {},
   "outputs": [],
   "source": [
    "print(f\"Ragos de fechas: mínima: {df_cp.Date.min()} máxima: {df_cp.Date.max()}\")\n",
    "\n",
    "df_grouped = df_cp.groupby('Date')['AveragePrice'].mean()\n",
    "df_cp_conventional = df_cp[df_cp['type'] =='conventional']#[['Date', 'AveragePrice']]\n",
    "df_grouped = df_cp_conventional.groupby('Date')['AveragePrice'].mean()\n",
    "\n",
    "# Descomposicio de la serie de tiemps: 39 mesos si considerem que tenim del 1-1-2015 fins al 25-3-2018\n",
    "df_decomp = seasonal_decompose(df_grouped, model='additive', period=(int)(52*1)) #maxim: 84\n",
    "\n",
    "plt.figure(figsize=(10, 2))\n",
    "plt.plot(df_decomp.observed, label='avocado convencional')\n",
    "plt.legend(loc='best');plt.grid(True)\n",
    "#plt.title('Tendencia')\n",
    "plt.tight_layout()\n",
    "plt.show()\n",
    "\n",
    "plt.figure(figsize=(10, 2))\n",
    "plt.plot(df_decomp.trend, color='red', label='Tendencia mensual(avocado convencional)')\n",
    "plt.legend(loc='best');plt.grid(True)\n",
    "#plt.title('Tendencia')\n",
    "plt.tight_layout()\n",
    "plt.show()\n",
    "\n",
    "plt.figure(figsize=(10, 2))\n",
    "plt.plot(df_decomp.seasonal, label='Estacionalidad (avocado convencional)')\n",
    "plt.legend(loc='best');plt.grid(True)\n",
    "#plt.title('Estacionalidad')\n",
    "plt.tight_layout()\n",
    "plt.show()\n",
    "\n",
    "plt.figure(figsize=(10, 2))\n",
    "plt.plot(df_decomp.resid, color='green', label='Residuo (avocado convencional)')\n",
    "plt.legend(loc='best');plt.grid(True)\n",
    "#plt.title('Residuo')\n",
    "plt.tight_layout()\n",
    "plt.show()"
   ]
  },
  {
   "cell_type": "code",
   "execution_count": null,
   "id": "08f13edb",
   "metadata": {},
   "outputs": [],
   "source": [
    "print(\"Organic\")\n",
    "\n",
    "df_grouped = df_cp.groupby('Date')['AveragePrice'].mean()\n",
    "df_cp_organic = df_cp[df_cp['type'] =='organic']\n",
    "df_grouped = df_cp_conventional.groupby('Date')['AveragePrice'].mean()\n",
    "# Descomposicio de la serie de tiemps: 39 mesos si considerem que tenim del 1-1-2015 fins al 25-3-2018\n",
    "df_decomp = seasonal_decompose(df_grouped, model='additive', period=(int)(52*1)) #maxim: 84\n",
    "plt.figure(figsize=(10, 8))\n",
    "\n",
    "plt.subplot(411)\n",
    "plt.plot(df_grouped, label='avocado Organic')\n",
    "plt.legend(loc='best');plt.grid(True)\n",
    "plt.subplot(412)\n",
    "plt.plot(df_decomp.trend, color='red', label='Tendencia (avocado Organic)')\n",
    "plt.legend(loc='best');plt.grid(True)\n",
    "plt.subplot(413)\n",
    "plt.plot(df_decomp.seasonal,label='Estacionalidad (avocado Organic)')\n",
    "plt.legend(loc='best');plt.grid(True)\n",
    "plt.subplot(414)\n",
    "plt.plot(df_decomp.resid, color='green',label='Residuales (avocado Organic)')\n",
    "plt.legend(loc='best');plt.grid(True)\n",
    "plt.tight_layout()\n",
    "plt.show()"
   ]
  },
  {
   "cell_type": "markdown",
   "id": "49a9ae69",
   "metadata": {},
   "source": [
    "##### Precios promedio calibre "
   ]
  },
  {
   "cell_type": "code",
   "execution_count": null,
   "id": "38b19ca6",
   "metadata": {},
   "outputs": [],
   "source": []
  },
  {
   "cell_type": "markdown",
   "id": "0678155c",
   "metadata": {},
   "source": [
    "##### Precios promedio por bolsa"
   ]
  },
  {
   "cell_type": "code",
   "execution_count": null,
   "id": "9aa39454",
   "metadata": {},
   "outputs": [],
   "source": []
  },
  {
   "cell_type": "markdown",
   "id": "52279e48",
   "metadata": {},
   "source": [
    "##### Precio medio y volumen total"
   ]
  },
  {
   "cell_type": "code",
   "execution_count": null,
   "id": "d6b309ab",
   "metadata": {},
   "outputs": [],
   "source": [
    "plt.figure(figsize=(12, 4))\n",
    "plt.scatter(df_cp['AveragePrice'], df_cp['Total Volume'], alpha=0.5)\n",
    "plt.xlabel('Averag ePrice')\n",
    "plt.ylabel('Total Volume)')\n",
    "plt.title('Relación entre Precio medio y volumen total')\n",
    "plt.grid(True); #plt.legend(loc='best')\n",
    "plt.show()\n",
    "\n",
    "plt.figure(figsize=(12, 4))\n",
    "plt.scatter(df_cp['AveragePrice'], df_cp['Total Volume'], alpha=0.5)\n",
    "plt.xlabel('Averag ePrice')\n",
    "plt.ylabel('Total Volume)')\n",
    "plt.title('Relación entre Precio medio y volumen total')\n",
    "plt.grid(True); #plt.legend(loc='best')\n",
    "plt.yscale('log')\n",
    "plt.show()\n",
    "\n",
    "# df_cp.groupby(by=['region']).count()"
   ]
  },
  {
   "cell_type": "markdown",
   "id": "02eca268",
   "metadata": {},
   "source": [
    "##### Separar avocados convencional y organics"
   ]
  },
  {
   "cell_type": "code",
   "execution_count": null,
   "id": "e9987e33",
   "metadata": {},
   "outputs": [],
   "source": [
    "df_grouped = df_cp.groupby('Date')['AveragePrice'].mean()\n",
    "\n",
    "plt.figure(figsize=(12, 3))\n",
    "plt.plot(df_grouped, label ='Precio Medio')\n",
    "plt.legend(loc='best')\n",
    "plt.xlabel('Tiempo')\n",
    "plt.ylabel('Precio medio')\n",
    "plt.title('Precio medio en el tiempo')\n",
    "plt.grid(True); plt.xticks(rotation=0)\n",
    "plt.show()\n",
    "\n",
    "df_grouped = df_cp.groupby(pd.Grouper(key='Date', freq='M'))['AveragePrice'].mean()\n",
    "plt.figure(figsize=(12,3))\n",
    "plt.plot(df_grouped, label='Precio medio mensual') #plt.plot(df_grouped.index, df_grouped.values)\n",
    "plt.legend(loc='best')\n",
    "plt.xlabel('Fecha')\n",
    "plt.ylabel('Precio medio')\n",
    "plt.title('Precio medio mensual')\n",
    "plt.grid(True); plt.xticks(rotation=0)\n",
    "plt.show()\n",
    "\n",
    "df_cp_conventional = df_cp[df_cp['type'] =='conventional'] #[['Date', 'AveragePrice']]\n",
    "df_grouped_conv = df_cp_conventional.groupby('Date')['AveragePrice'].mean()\n",
    "\n",
    "df_cp_organic = df_cp[df_cp['type'] =='organic'] #[['Date', 'AveragePrice']]\n",
    "df_grouped_orga = df_cp_organic.groupby('Date')['AveragePrice'].mean()\n",
    "\n",
    "plt.figure(figsize=(12, 3))\n",
    "plt.plot(df_grouped_conv, label ='Precio Medio convencional')\n",
    "plt.plot(df_grouped_orga, label ='Precio Medio organic')\n",
    "plt.legend(loc='best')\n",
    "plt.xlabel('Tiempo')\n",
    "plt.ylabel('Precio medio')\n",
    "plt.title('Precio medio en el tiempo segun tipo alvocado')\n",
    "plt.grid(True); plt.xticks(rotation=0)\n",
    "plt.show()\n",
    "\n",
    "#df_grouped"
   ]
  },
  {
   "cell_type": "markdown",
   "id": "5eaff992",
   "metadata": {},
   "source": [
    "##### Comparación precios promedio convencional y organico\n",
    "* Aqui veiem que existeixen unes regions mes relevants que altres. Caldria fer una separació?"
   ]
  },
  {
   "cell_type": "code",
   "execution_count": null,
   "id": "f5116f6e",
   "metadata": {},
   "outputs": [],
   "source": [
    "df_subset = df_cp#[df_cp['region']!= 'TotalUS']\n",
    "pd.unique(df_subset['region'])\n",
    "\n",
    "grouped = df_subset.groupby(['region', 'type'])['Total Volume'].sum()\n",
    "\n",
    "fig, ax= plt.subplots(figsize=(20,4))\n",
    "grouped.plot(kind='bar', ax=ax, color = ['gray', 'green'] )\n",
    "# plt.ylim(0, 0.3*10**9)\n",
    "plt.grid()"
   ]
  },
  {
   "cell_type": "code",
   "execution_count": null,
   "id": "d9c393e1",
   "metadata": {},
   "outputs": [],
   "source": [
    "price_group = df_subset.groupby(['region', 'type'])['AveragePrice'].mean()#.nlargest(10)\n",
    "\n",
    "fig, ax= plt.subplots(figsize=(20,4))\n",
    "price_group.plot(kind='bar', ax=ax, color = ['gray', 'green'] )\n",
    "# plt.ylim(0, 0.3*10**9)\n",
    "plt.grid()"
   ]
  },
  {
   "cell_type": "code",
   "execution_count": null,
   "id": "7a52c9ca",
   "metadata": {},
   "outputs": [],
   "source": [
    "## Aquest gràfic es espectacular, y ens permet veure que sempre són els alvocats orgànics els que costen més que la mitjana.\n",
    "avocados_region_mean = df_subset.groupby(['region','type'])['AveragePrice'].mean()#.nlargest(6)\n",
    "\n",
    "total_mean = df_subset['AveragePrice'].mean()\n",
    "fig, ax= plt.subplots(figsize=(20,4))\n",
    "avocados_relative_mean = (avocados_region_mean - total_mean)*100/total_mean\n",
    "avocados_relative_mean.plot(kind = 'bar', ylabel= '% Price deviation', color = ['slategray', 'forestgreen'])\n",
    "plt.grid()"
   ]
  },
  {
   "cell_type": "code",
   "execution_count": null,
   "id": "7059bd6c",
   "metadata": {},
   "outputs": [],
   "source": [
    "# Si mirem la proporcio, en general es manté constant. No hi ha ningun interes per a tornar a ho natural a les gran ciutats o extensions.\n",
    "# Si acas hi ha més divergencia en extensions menors.\n",
    "unstacked_type= grouped.unstack()\n",
    "unstacked_type['Proportion'] = unstacked_type['conventional']/unstacked_type['organic']\n",
    "\n",
    "fig, ax= plt.subplots(figsize=(20,4))\n",
    "x_values= unstacked_type['conventional']\n",
    "y_values= unstacked_type['Proportion']\n",
    "\n",
    "ax.scatter(x=x_values, y= y_values )\n",
    "# plt.ylim(0, 0.3*10**9)\n",
    "plt.grid()"
   ]
  },
  {
   "cell_type": "markdown",
   "id": "d27fe694",
   "metadata": {},
   "source": [
    "##### Ventas en el tiempo y separación entre convencional / orgánico"
   ]
  },
  {
   "cell_type": "code",
   "execution_count": null,
   "id": "faf6afdc",
   "metadata": {},
   "outputs": [],
   "source": [
    "df_date_volume = df_cp[['Date', 'Total Volume']]\n",
    "#df_cp_organic = df_cp[df_cp['type'] =='organic'] #[['Date', 'AveragePrice']]\n",
    "#df_date_volume\n",
    "df_grouped_conventional = df_date_volume[df_cp['type'] =='conventional'].groupby('Date').sum('Total Volume')\n",
    "df_grouped_organic = df_date_volume[df_cp['type'] =='organic'].groupby('Date').sum('Total Volume')\n",
    "\n",
    "# Graficar\n",
    "plt.figure(figsize=(20,3))\n",
    "plt.plot(df_grouped_conventional, label='Volumen total ventas (conventional)')\n",
    "plt.title('Volumen total de ventas a lo targo del tiempo')\n",
    "plt.xlabel('Fecha')\n",
    "plt.ylabel('Volumen ventas')\n",
    "plt.legend(loc='best'); plt.grid(True)\n",
    "plt.plot(df_grouped_organic, label='Volumen total ventas (organic)')\n",
    "plt.xlabel('Fecha')\n",
    "plt.ylabel('Volumen ventas')\n",
    "plt.legend(loc='best'); plt.grid(True)\n",
    "plt.show()\n",
    "\n",
    "plt.figure(figsize=(20,3))\n",
    "plt.plot(df_grouped_conventional, label='Volumen total ventas (conventional) escala logaritmica')\n",
    "plt.title('Volumen total de ventas a lo targo del tiempo - escala logaritmica')\n",
    "plt.xlabel('Fecha')\n",
    "plt.ylabel('Volumen ventas')\n",
    "plt.yscale('log')\n",
    "plt.legend(loc='best'); plt.grid(True)\n",
    "plt.plot(df_grouped_organic, label='Volumen total ventas (organic) escala logaritmica')\n",
    "plt.xlabel('Fecha')\n",
    "plt.ylabel('Volumen ventas')\n",
    "plt.yscale('log')\n",
    "plt.legend(loc='best'); plt.grid(True)\n",
    "plt.show()"
   ]
  },
  {
   "cell_type": "markdown",
   "id": "59244680",
   "metadata": {},
   "source": [
    "##### Análisis de Cambios en Precios Anuales:"
   ]
  },
  {
   "cell_type": "code",
   "execution_count": null,
   "id": "9da0f49b",
   "metadata": {},
   "outputs": [],
   "source": [
    "df_year_price = df_cp.groupby('year')['AveragePrice'].mean()\n",
    "df_year_price_conventional = df_cp[df_cp['type'] =='conventional'].groupby('year')['AveragePrice'].mean()\n",
    "df_year_price_organic = df_cp[df_cp['type'] =='organic'].groupby('year')['AveragePrice'].mean()\n",
    "\n",
    "# Graficar\n",
    "plt.figure(figsize=(10, 2)) \n",
    "df_year_price.plot.bar(label ='Precio medio', color ='blue', alpha=1) # x='aaa??',y='bbb??',\n",
    "plt.xlabel('Año')\n",
    "plt.ylabel('Precio medio')\n",
    "plt.title('Precio medio anual')\n",
    "plt.legend(loc='lower right'); plt.grid(True)\n",
    "plt.xticks(rotation=0)\n",
    "plt.show()\n",
    "display(df_year_price)\n",
    "\n",
    "plt.figure(figsize=(10, 2)) \n",
    "df_year_price_organic.plot.bar(label ='Precio medio alvocado organic', color ='green') # x='aaa??',y='bbb??',\n",
    "df_year_price_conventional.plot.bar(label ='Precio medio alvocado conventional', color ='grey') # x='aaa??',y='bbb??',\n",
    "#df_year_price.plot.bar(label ='Precio medio', color ='blue', alpha=0.2) # x='aaa??',y='bbb??',\n",
    "plt.xlabel('Año')\n",
    "plt.ylabel('Precio medio')\n",
    "plt.title('Precio medio anual')\n",
    "plt.legend(loc='lower right'); plt.grid(True)\n",
    "plt.xticks(rotation=0)\n",
    "plt.show()"
   ]
  },
  {
   "cell_type": "markdown",
   "id": "907893db",
   "metadata": {},
   "source": [
    "##### Representación de ventas totales sobre precio promedio ( por regiones o no )"
   ]
  },
  {
   "cell_type": "code",
   "execution_count": null,
   "id": "9d690e5d",
   "metadata": {},
   "outputs": [],
   "source": [
    "df_subset = df_cp[df_cp['region']!= 'TotalUS']\n",
    "df_convencionals = df_subset[df_subset['type']=='conventional']\n",
    "\n",
    "fig, ax= plt.subplots(figsize=(12,3))\n",
    "x_values = df_convencionals['Total Volume']\n",
    "y_values = df_convencionals['AveragePrice']\n",
    "c_values= list(df_convencionals['region_class'].map(av.classification_colors()))\n",
    "\n",
    "plt.scatter(x= x_values, y= y_values, c=c_values, alpha = 0.3)\n",
    "plt.xscale('log')\n",
    "plt.ylabel('Average price')\n",
    "plt.xlabel('Market size')\n",
    "plt.grid()"
   ]
  },
  {
   "cell_type": "code",
   "execution_count": null,
   "id": "2d2d57c6",
   "metadata": {},
   "outputs": [],
   "source": [
    "classification_colors = {'City':'green' ,'Region':'red' ,'GreaterRegion':'orange', 'TotalUS': 'blue'}\n",
    "\n",
    "df_subset = av.df(\"df_city_region\") # df_cp[df_cp['region']!= 'TotalUS']\n",
    "df_organic = df_subset[df_subset['type']=='organic']\n",
    "df_convencionals = df_subset[df_subset['type']=='conventional']\n",
    "\n",
    "fig, ax= plt.subplots(figsize=(10,3))\n",
    "x_values = df_convencionals['Total Volume']\n",
    "y_values = df_convencionals['AveragePrice']\n",
    "c_values= list(df_convencionals['region_class'].map(classification_colors))\n",
    "plt.scatter(x= x_values, y= y_values, c=c_values, alpha = .5)\n",
    "plt.xscale('log')\n",
    "plt.ylabel('Average price')\n",
    "plt.xlabel('Market size convencionals')\n",
    "plt.grid()\n",
    "\n",
    "fig, ax= plt.subplots(figsize=(10,3))\n",
    "x_values = df_organic['Total Volume']\n",
    "y_values = df_organic['AveragePrice']\n",
    "c_values= list(df_organic['region_class'].map(classification_colors))\n",
    "plt.scatter(x= x_values, y= y_values, c=c_values, alpha = .5)\n",
    "plt.xscale('log')\n",
    "plt.ylabel('Average price')\n",
    "plt.xlabel('Market size organic')\n",
    "plt.grid()"
   ]
  },
  {
   "cell_type": "code",
   "execution_count": null,
   "id": "b4a2048b",
   "metadata": {},
   "outputs": [],
   "source": [
    "# Claramente hay sitios donde los aguacates son más baratos, miremos si tiene que ver con otras características\n",
    "df_subset = df_cp[df_cp['region']!= 'TotalUS']\n",
    "df_convencionals = df_subset[df_subset['type']=='conventional']\n",
    "convencional_region_mean = df_convencionals.groupby('region')['AveragePrice'].mean()#.nlargest(6)\n",
    "coloring=convencional_region_mean.index.map(av.region_classification()).map(av.classification_colors())\n",
    "total_mean = df_convencionals['AveragePrice'].mean()\n",
    "fig, ax= plt.subplots(figsize=(20,4))\n",
    "avocados_relative_mean = ((convencional_region_mean - total_mean)*100/total_mean)\n",
    "avocados_relative_mean.plot(kind = 'bar', ylabel= '% Price deviation')#, color= coloring)#, color= convencional_region_mean.index.map(classification_colors))\n",
    "plt.grid()"
   ]
  },
  {
   "cell_type": "code",
   "execution_count": null,
   "id": "0569cc58",
   "metadata": {},
   "outputs": [],
   "source": [
    "# Aqui podem veure que a majors mercats el preu mig tendeix a abaratirse. \n",
    "# Aqui estem prenent cada regio com equivalentment valida\n",
    "# cambiar el 2018 no parece afectar los resultados\n",
    "\n",
    "convencional_region_mean_total = df_convencionals.groupby('region').agg({'Total Volume':'sum', 'AveragePrice':'mean'})#.nlargest(6)\n",
    "convencional_region_mean_total['region_class'] = convencional_region_mean_total.index.map(av.region_classification())\n",
    "\n",
    "fig, ax= plt.subplots(figsize=(8,6))\n",
    "x_values = convencional_region_mean_total['Total Volume']\n",
    "total_mean = convencional_region_mean_total['AveragePrice'].mean()\n",
    "y_values = (convencional_region_mean_total['AveragePrice'] - total_mean)*100/total_mean\n",
    "c_values= list(convencional_region_mean_total['region_class'].map(av.classification_colors()))\n",
    "\n",
    "plt.scatter(x= x_values, y= y_values, c=c_values)\n",
    "plt.xscale('log')\n",
    "plt.ylabel('% Average price deviation')\n",
    "plt.xlabel('Market size')\n",
    "plt.grid()"
   ]
  },
  {
   "cell_type": "markdown",
   "id": "0c5aa662-d255-45f0-9281-2f221a36eee2",
   "metadata": {},
   "source": [
    "### ANALISIS"
   ]
  },
  {
   "cell_type": "markdown",
   "id": "50f15efe-2d06-486a-bc4d-4f4679974a10",
   "metadata": {},
   "source": [
    "#### Separar alvocats convencionals i alvocats orgànics"
   ]
  },
  {
   "cell_type": "code",
   "execution_count": null,
   "id": "b3ef45f3",
   "metadata": {},
   "outputs": [],
   "source": []
  },
  {
   "cell_type": "markdown",
   "id": "410f1e5e-6277-44ba-8670-02f23a7f9aab",
   "metadata": {},
   "source": [
    "#### Impacto del precio en las ventas"
   ]
  },
  {
   "cell_type": "code",
   "execution_count": null,
   "id": "72661bb2",
   "metadata": {},
   "outputs": [],
   "source": []
  },
  {
   "cell_type": "markdown",
   "id": "9d297c93",
   "metadata": {},
   "source": [
    "#### Estacionalidad por región"
   ]
  },
  {
   "cell_type": "code",
   "execution_count": null,
   "id": "89f83476",
   "metadata": {},
   "outputs": [],
   "source": [
    "get_season = av.get_season()\n",
    "\n",
    "df_date_price_volume = df_cp[['Date', 'region', 'AveragePrice', 'Total Volume']]\n",
    "df_date_price_volume = df_date_price_volume.reset_index()\n",
    "df_date_price_volume['Season'] = df_date_price_volume['Date'].apply(get_season)\n",
    "# df_date_price_volume\n",
    "\n",
    "df_grouped_mean = df_date_price_volume.groupby(['Season','region'])['AveragePrice'].mean()\n",
    "df_grouped_mean = df_grouped_mean.reset_index()\n",
    "\n",
    "seasons = df_grouped_mean['Season'].unique()\n",
    "plt.figure(figsize=(20, 8)) \n",
    "for season in seasons:\n",
    "    df_season = df_grouped_mean[df_grouped_mean['Season'] == season]\n",
    "    plt.plot(df_season['region'], df_season['AveragePrice'], marker='.', label=season)\n",
    "plt.title('Precio medio por temporada y región')\n",
    "plt.xlabel('Región')\n",
    "plt.ylabel('Precio medio')\n",
    "plt.xticks(rotation=90)\n",
    "plt.grid(True)\n",
    "plt.legend()\n",
    "plt.tight_layout()\n",
    "plt.show()\n",
    "#df_grouped_mean"
   ]
  },
  {
   "cell_type": "markdown",
   "id": "edaa99db-948c-4549-8772-acb13b6a62a1",
   "metadata": {},
   "source": [
    "#### Correlacion de les \"grans regions\" i regions amb volum total US"
   ]
  },
  {
   "cell_type": "code",
   "execution_count": null,
   "id": "375d698a",
   "metadata": {},
   "outputs": [],
   "source": [
    "df_cp_cleaned = df_cp[df_cp.region != 'TotalUS'] # Para seleccionar unicamente las regiones propias , descartamos Total US para la vista gráfica\n",
    "df_cp_cleaned['Suma Volums'] = df_cp_cleaned['Volume_Hass_S' ]+ df_cp_cleaned['Volume_Hass_L']+ df_cp_cleaned['Volume_Hass_XL' ]\n",
    "df_cp_cleaned['Variacio'] = (df_cp_cleaned['Total Volume'] - df_cp_cleaned['Suma Volums'])*100/df_cp_cleaned['Total Volume']\n",
    "\n",
    "index_df = df_cp_cleaned.copy()\n",
    "index_df= index_df[index_df['region_class']=='City']\n",
    "\n",
    "region_largest= list(index_df.groupby('region')['Total Volume'].sum().nlargest(3).index)\n",
    "# region_largest.pop('TotalUS')\n",
    "\n",
    "df_greatest_pie = df_cp.groupby('region')['Total Volume'].sum().nlargest(8)   #df_cp[df_cp['region'].isin(region_largest)]\n",
    "df_greatest_pie.loc['TotalUS'] = 2*df_greatest_pie.loc['TotalUS'] - df_greatest_pie.loc[:].sum()\n",
    "df_greatest_pie.rename( index={'TotalUS':'Otros'}, inplace=True)\n",
    "df_greatest_pie.plot.pie(title=\"Market size\", legend=False, \\\n",
    "                   autopct='%1.1f%%', \\\n",
    "                   shadow=True, startangle=0)"
   ]
  },
  {
   "cell_type": "markdown",
   "id": "68bd45dd-adad-43ec-b9b9-9589c8524398",
   "metadata": {},
   "source": [
    "#### Correlacion de volum total de les ciutats amb volum total US"
   ]
  },
  {
   "cell_type": "code",
   "execution_count": null,
   "id": "b164a8ec",
   "metadata": {},
   "outputs": [],
   "source": []
  },
  {
   "cell_type": "markdown",
   "id": "b6d751ef-4246-4b9b-a3d7-cd5875cd7cea",
   "metadata": {},
   "source": [
    "#### Elasticidad"
   ]
  },
  {
   "cell_type": "code",
   "execution_count": null,
   "id": "0fe14141",
   "metadata": {},
   "outputs": [],
   "source": []
  },
  {
   "cell_type": "markdown",
   "id": "3a241231-da66-45b0-a1e9-312a097b8a68",
   "metadata": {},
   "source": [
    "#### Analisis por Cohortes"
   ]
  },
  {
   "cell_type": "code",
   "execution_count": null,
   "id": "b6027c15",
   "metadata": {},
   "outputs": [],
   "source": []
  },
  {
   "cell_type": "markdown",
   "id": "25a22816-4593-48bc-881f-6e99bdffd32c",
   "metadata": {},
   "source": [
    "#### Matriz de correlaciones de todas las variables según  apartado 5.6. En especial, precio medio y relación con diferentes calibres."
   ]
  },
  {
   "cell_type": "code",
   "execution_count": null,
   "id": "3da3658a",
   "metadata": {},
   "outputs": [],
   "source": []
  },
  {
   "cell_type": "markdown",
   "id": "8dd1949c-5d41-41e5-b6f8-8dd2998f74ad",
   "metadata": {},
   "source": [
    "#### Dispersión entre variables claves según 5.2"
   ]
  },
  {
   "cell_type": "code",
   "execution_count": null,
   "id": "bdeda96d",
   "metadata": {},
   "outputs": [],
   "source": []
  },
  {
   "cell_type": "markdown",
   "id": "bd0e0977-e5e3-4188-959d-6e07b1fcdedb",
   "metadata": {},
   "source": [
    "### REGRESIONES Y PROYECCIONES"
   ]
  },
  {
   "cell_type": "markdown",
   "id": "80cf10f8-550c-4a64-b03d-087a75aeb679",
   "metadata": {},
   "source": [
    "#### Creación del modelo de regresión"
   ]
  },
  {
   "cell_type": "code",
   "execution_count": null,
   "id": "3809da85",
   "metadata": {},
   "outputs": [],
   "source": []
  },
  {
   "cell_type": "markdown",
   "id": "0578f063-30cd-46da-b352-89f2c68369d1",
   "metadata": {},
   "source": [
    "#### Creación de modelo predictivo de ventas por MES usando los datos de años anteriores ( lineal y polinomica ) Calculo R2"
   ]
  },
  {
   "cell_type": "code",
   "execution_count": null,
   "id": "87880a7d",
   "metadata": {},
   "outputs": [],
   "source": []
  },
  {
   "cell_type": "markdown",
   "id": "84bdee54-da39-4fe6-b1f1-ac4bf2e79ee2",
   "metadata": {},
   "source": [
    "#### Creación de modelo predictivo de ventas por TRIMESTRE usando los datos de años anteriores ( lineal y polinomica ) Calculo R2"
   ]
  },
  {
   "cell_type": "code",
   "execution_count": null,
   "id": "859f5073",
   "metadata": {},
   "outputs": [],
   "source": []
  },
  {
   "cell_type": "markdown",
   "id": "b25d9d7d-7f74-49e8-bbb6-c126f189db86",
   "metadata": {},
   "source": [
    "#### Creación de modelo predictivo de ventas por AÑO usando los datos de años anteriores ( lineal y polinomica ) Calculo R2"
   ]
  },
  {
   "cell_type": "code",
   "execution_count": null,
   "id": "462ba297",
   "metadata": {},
   "outputs": [],
   "source": []
  },
  {
   "cell_type": "markdown",
   "id": "2078943b-6b5c-4efa-a7e9-13b524426e5e",
   "metadata": {},
   "source": [
    "#### Modelos de regresión multiple entre todas las variables según  apartado 5.6. En especial, precio medio y relación con diferentes calibres.Precio vs Total Bags"
   ]
  },
  {
   "cell_type": "code",
   "execution_count": null,
   "id": "317b50e7",
   "metadata": {},
   "outputs": [],
   "source": []
  },
  {
   "cell_type": "markdown",
   "id": "34bcd7b8-e5cf-4580-9993-c5303913d1d6",
   "metadata": {},
   "source": [
    "#### Analisis de coeficientes de regresion multiple. Afectación de cada variable al AvgPrice apartado 5.7"
   ]
  },
  {
   "cell_type": "code",
   "execution_count": null,
   "id": "024849b1",
   "metadata": {},
   "outputs": [],
   "source": []
  },
  {
   "cell_type": "markdown",
   "id": "ac85fcde-da51-4e8d-bde8-969d37c74269",
   "metadata": {},
   "source": [
    "#### Modelos de regresión para diferenciar volumenes de ventas Apartado 5.8 . Calibres y AveragePrice."
   ]
  },
  {
   "cell_type": "code",
   "execution_count": null,
   "id": "ed62ac92",
   "metadata": {},
   "outputs": [],
   "source": []
  },
  {
   "cell_type": "markdown",
   "id": "02ae63d1-b66d-48aa-94db-cdd51937a0e1",
   "metadata": {},
   "source": [
    "#### Creación de modelo de regresión y polinómica de ventas totales sobre precio promedio ( por regiones o no ) apartado 5.9"
   ]
  },
  {
   "cell_type": "code",
   "execution_count": null,
   "id": "98df302e",
   "metadata": {},
   "outputs": [],
   "source": []
  },
  {
   "cell_type": "markdown",
   "id": "82b9f52b-f3b1-4f7e-a029-822d36108ac8",
   "metadata": {},
   "source": [
    "#### Predicciones"
   ]
  },
  {
   "cell_type": "code",
   "execution_count": null,
   "id": "2b657c40",
   "metadata": {},
   "outputs": [],
   "source": []
  },
  {
   "cell_type": "markdown",
   "id": "044bc252-a26d-4d42-9ed7-9ad00d910b10",
   "metadata": {},
   "source": [
    "#### Predicción de precio promedio según volumen aguacates y por tipo ( y por calibres ??) . Lineal y Polinomica. Calculo de R2"
   ]
  },
  {
   "cell_type": "code",
   "execution_count": null,
   "id": "2ba48755",
   "metadata": {},
   "outputs": [],
   "source": []
  }
 ],
 "metadata": {
  "kernelspec": {
   "display_name": "usr",
   "language": "python",
   "name": "python3"
  },
  "language_info": {
   "codemirror_mode": {
    "name": "ipython",
    "version": 3
   },
   "file_extension": ".py",
   "mimetype": "text/x-python",
   "name": "python",
   "nbconvert_exporter": "python",
   "pygments_lexer": "ipython3",
   "version": "3.12.3"
  }
 },
 "nbformat": 4,
 "nbformat_minor": 5
}
