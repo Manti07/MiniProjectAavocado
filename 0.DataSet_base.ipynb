{
 "cells": [
  {
   "cell_type": "markdown",
   "id": "f8f63eb2-6e4c-47f2-996a-9ebfbe752166",
   "metadata": {},
   "source": [
    "# Análisis del Conjunto de Datos de Precios de Aguacate\n",
    "\n",
    "**Conjunto de Datos de Precios de Aguacate**: El conjunto de datos \"Precios de Aguacate\", obtenido de Kaggle, es un conjunto de datos ampliamente utilizado para proyectos de análisis de datos y aprendizaje automático. Proporciona datos históricos sobre precios y ventas de aguacates en varias regiones de los Estados Unidos. Este conjunto de datos es valioso para entender las tendencias en los precios de los aguacates, los volúmenes de ventas y su relación con diferentes factores.\n",
    "\n",
    "## Atributos Clave\n",
    "\n",
    "- **Columnas**: El conjunto de datos incluye varias columnas de información. Algunas de las columnas clave típicamente encontradas en este conjunto de datos incluyen:\n",
    "    - **Fecha** (`Date`): La fecha de observación.\n",
    "    - **Precio Promedio** (`AveragePrice`): El precio promedio de los aguacates.\n",
    "    - **Volumen Total** (`Total Volume`): El volumen total de aguacates vendidos.\n",
    "    - **4046**: Volumen de aguacates Hass pequeños vendidos.\n",
    "    - **4225**: Volumen de aguacates Hass grandes vendidos.\n",
    "    - **4770**: Volumen de aguacates Hass extra grandes vendidos.\n",
    "    - **Bolsas Totales** (`Total Bags`): Total de bolsas de aguacates vendidas.\n",
    "    - **Bolsas Pequeñas** (`Small Bags`): Bolsas de aguacates pequeños vendidas.\n",
    "    - **Bolsas Grandes** (`Large Bags`): Bolsas de aguacates grandes vendidas.\n",
    "    - **Bolsas Extra Grandes** (`XLarge Bags`): Bolsas de aguacates extra grandes vendidas.\n",
    "    - **Tipo** (`Type`): El tipo de aguacates, generalmente categorizados como convencionales u orgánicos.\n",
    "    - **Región** (`Region`): La región o ciudad dentro de los Estados Unidos donde se registraron los datos.\n",
    "\n",
    "- **Rango de Fechas**: El conjunto de datos abarca un rango de fechas, lo que permite el análisis de series de tiempo. Puedes examinar cómo cambian los precios y ventas de aguacates a lo largo de diferentes estaciones y años.\n",
    "\n",
    "- **Regiones**: Se proporciona información para varias regiones o ciudades a través de los Estados Unidos, lo que permite el análisis de variaciones de precios y ventas en diferentes mercados.\n",
    "\n",
    "- **Tipos**: El conjunto de datos distingue entre diferentes tipos de aguacates, como convencionales y orgánicos, lo que puede ser útil para comparar tendencias de precios entre estas categorías.\n",
    "\n",
    "- **Volumen**: Están disponibles datos sobre el volumen total de aguacates vendidos. Esta métrica de volumen se utiliza a menudo para analizar la demanda del mercado.\n",
    "\n",
    "- **Precio Promedio**: El conjunto de datos contiene el precio promedio de los aguacates, una métrica fundamental para entender las tendencias de precios.\n",
    "\n",
    "## Casos de Uso\n",
    "\n",
    "- Este conjunto de datos se utiliza comúnmente para aprender y practicar el análisis de datos, visualización de datos y modelado de regresión en proyectos de ciencia de datos y aprendizaje automático.\n",
    "\n",
    "- Sirve como un recurso valioso para entender cómo trabajar con datos del mundo real, extraer conocimientos y tomar decisiones basadas en datos.\n",
    "\n",
    "---"
   ]
  },
  {
   "cell_type": "code",
   "execution_count": 3,
   "id": "a45d00a7",
   "metadata": {},
   "outputs": [
    {
     "ename": "NameError",
     "evalue": "name 'df' is not defined",
     "output_type": "error",
     "traceback": [
      "\u001b[0;31m---------------------------------------------------------------------------\u001b[0m",
      "\u001b[0;31mNameError\u001b[0m                                 Traceback (most recent call last)",
      "Cell \u001b[0;32mIn[3], line 3\u001b[0m\n\u001b[1;32m      1\u001b[0m \u001b[38;5;28;01mimport\u001b[39;00m \u001b[38;5;21;01mdf_alvocado\u001b[39;00m \u001b[38;5;28;01mas\u001b[39;00m \u001b[38;5;21;01malvocado\u001b[39;00m\n\u001b[0;32m----> 3\u001b[0m \u001b[43mdf\u001b[49m\u001b[38;5;241m.\u001b[39mhead()\n",
      "\u001b[0;31mNameError\u001b[0m: name 'df' is not defined"
     ]
    }
   ],
   "source": [
    "import df_alvocado as alvocado"
   ]
  },
  {
   "cell_type": "markdown",
   "id": "af8463df",
   "metadata": {},
   "source": [
    "# Notas\n",
    "\n",
    "\n",
    "#### Nota:\n",
    "`seasonal_decompose` es una función de la biblioteca `statsmodels` que se utiliza para descomponer una serie temporal en sus componentes principales: tendencia, estacionalidad y residuos. En esencia, busca separar las diferentes componentes que influyen en los datos a lo largo del tiempo.\n",
    "\n",
    "**Componentes de la descomposición:**\n",
    "\n",
    "* **Tendencia (Trend):** Representa la variación a largo plazo de la serie.  Piensa en la dirección general que siguen los datos a través del tiempo. Puede ser ascendente, descendente o constante.\n",
    "* **Estacionalidad (Seasonality):**  Se refiere a patrones que se repiten a intervalos regulares de tiempo. Por ejemplo, las ventas de helados tienden a aumentar en verano y disminuir en invierno, mostrando un patrón estacional anual.  El período de estacionalidad es la duración de este ciclo repetitivo (e.g., semanal, mensual, anual).\n",
    "* **Residuos (Residuals):**  Representan la parte aleatoria o irregular de la serie, lo que no puede explicarse por la tendencia ni la estacionalidad.  Estos son los datos restantes después de eliminar la tendencia y la estacionalidad.  Un buen modelo de descomposición debería tener residuos que parezcan ruido blanco (sin patrones claros).\n",
    "\n",
    "**Cómo funciona `seasonal_decompose`:**\n",
    "\n",
    "La función toma una serie temporal como entrada y utiliza un modelo para separar los datos en sus componentes.  El modelo puede ser `'additive'` o `'multiplicative'`.\n",
    "\n",
    "* **Modelo aditivo:**  Asume que los componentes se suman para formar la serie:  `Serie = Tendencia + Estacionalidad + Residuos`.  Este modelo es adecuado cuando la amplitud de la estacionalidad se mantiene relativamente constante a lo largo del tiempo.\n",
    "\n",
    "* **Modelo multiplicativo:**  Asume que los componentes se multiplican: `Serie = Tendencia * Estacionalidad * Residuos`. Este modelo es apropiado cuando la amplitud de la estacionalidad aumenta o disminuye con la tendencia.\n",
    "\n",
    "El parámetro `period` especifica la duración del ciclo estacional. Por ejemplo, si tus datos tienen un patrón semanal, el período sería 7.  Si es mensual, sería 12 para un patrón anual.  La elección correcta del período es crucial para la precisión de la descomposición.\n",
    "\n",
    "#### Nota:\n",
    "\n",
    "\"Utiliza la función `seasonal_decompose` de la librería `statsmodels` para descomponer la serie temporal de precios en componentes de tendencia, estacionalidad y ruido.\"\n",
    "\n",
    "\n",
    "Se refiere a la visualización gráfica de los diferentes componentes de una serie de tiempo después de aplicar una descomposición para separar la serie temporal original (`df_grouped`) en las componentes:\n",
    "\n",
    "a. **Tendencia (Trend):**  Muestra la dirección general a largo plazo de la serie.  Es la parte de la serie que cambia gradualmente a lo largo del tiempo.\n",
    "\n",
    "b. **Estacionalidad (Seasonality):**  Representa patrones repetitivos que ocurren a intervalos regulares (semanales, mensuales, anuales, etc.). Por ejemplo, las ventas de helados tienden a ser más altas en verano.  En tu código, `period=7` sugiere una estacionalidad semanal.\n",
    "\n",
    "c. **Residuos (Residuals):**  Es la parte de la serie que no se explica por la tendencia ni la estacionalidad.  Idealmente, los residuos deberían parecerse a ruido aleatorio.  Si hay patrones claros en los residuos, significa que el modelo de descomposición no ha capturado todos los aspectos importantes de la serie.\n",
    "\n",
    "\n",
    "#### Nota:\n",
    "\n",
    "The reason you need reset_index is because groupby creates a multi-index.\n",
    "\n",
    "Seaborn's barplot (and other plotting functions) don't directly work with multi-indices.\n",
    "\n",
    "Resetting the index makes 'Season' and 'region' regular columns, which are compatible.\n",
    "\n",
    "#### Nota:\n",
    "...\n",
    "\n",
    "#### Nota:\n",
    "..."
   ]
  }
 ],
 "metadata": {
  "kernelspec": {
   "display_name": "Python 3 (ipykernel)",
   "language": "python",
   "name": "python3"
  },
  "language_info": {
   "codemirror_mode": {
    "name": "ipython",
    "version": 3
   },
   "file_extension": ".py",
   "mimetype": "text/x-python",
   "name": "python",
   "nbconvert_exporter": "python",
   "pygments_lexer": "ipython3",
   "version": "3.10.12"
  }
 },
 "nbformat": 4,
 "nbformat_minor": 5
}
