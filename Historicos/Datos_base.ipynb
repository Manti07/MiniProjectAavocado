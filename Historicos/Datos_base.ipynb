{
 "cells": [
  {
   "cell_type": "code",
   "execution_count": 4,
   "id": "ceda8a95-4a6e-47aa-8a50-a192f6b0d63d",
   "metadata": {},
   "outputs": [],
   "source": [
    "import pandas as pd\n",
    "import numpy as np\n",
    "import seaborn as sns\n",
    "import matplotlib.pyplot as plt\n",
    "from statsmodels.tsa.seasonal import seasonal_decompose\n"
   ]
  },
  {
   "cell_type": "markdown",
   "id": "bfb55862-5a53-471b-bd27-90ba48391e76",
   "metadata": {},
   "source": [
    "### Importación de datos base"
   ]
  },
  {
   "cell_type": "code",
   "execution_count": 3,
   "id": "b300e8d5-0415-4ee5-bf0a-5a96e6760faa",
   "metadata": {},
   "outputs": [],
   "source": [
    "df = pd.read_csv(\"avocado.csv\")\n",
    "df_cp = df.copy()\n",
    "df_cp['Date'] = pd.to_datetime(df_cp['Date'])"
   ]
  },
  {
   "cell_type": "markdown",
   "id": "73073a7a-b58b-4824-ac78-9f983abc0de9",
   "metadata": {},
   "source": [
    "#### Dataframes específicos"
   ]
  },
  {
   "cell_type": "markdown",
   "id": "8e033f43-a804-4455-8a27-a80c33dd9c85",
   "metadata": {},
   "source": [
    "Dataframe sin TotalUS"
   ]
  },
  {
   "cell_type": "code",
   "execution_count": 5,
   "id": "769fd706-890d-46a2-b598-b8dfafb6a107",
   "metadata": {},
   "outputs": [],
   "source": [
    "df_cp_noUS=df_cp[df_cp.region != 'TotalUS']"
   ]
  },
  {
   "cell_type": "markdown",
   "id": "4d259248-c082-4694-9c18-97caf7d449e8",
   "metadata": {},
   "source": [
    "Dataframe Convencionales y Orgánicos"
   ]
  },
  {
   "cell_type": "code",
   "execution_count": 8,
   "id": "5b60e945-8dfd-4abd-b427-d4f0d4a91ccc",
   "metadata": {},
   "outputs": [],
   "source": [
    "df_cp_noUS_conv=df_cp_noUS[(df_cp_noUS.region != 'TotalUS') & (df_cp_noUS.type=='conventional')]\n",
    "df_cp_noUS_org=df_cp_noUS[(df_cp_noUS.region != 'TotalUS') & (df_cp_noUS.type=='organic')]"
   ]
  },
  {
   "cell_type": "markdown",
   "id": "e8770c5a-19cc-46ee-896d-22bbbe7758a5",
   "metadata": {},
   "source": [
    "Dataframe total de Regiones"
   ]
  },
  {
   "cell_type": "code",
   "execution_count": null,
   "id": "d28d89c0-79b9-48d1-94e0-128d8d45034e",
   "metadata": {},
   "outputs": [],
   "source": []
  }
 ],
 "metadata": {
  "kernelspec": {
   "display_name": "Python 3 (ipykernel)",
   "language": "python",
   "name": "python3"
  },
  "language_info": {
   "codemirror_mode": {
    "name": "ipython",
    "version": 3
   },
   "file_extension": ".py",
   "mimetype": "text/x-python",
   "name": "python",
   "nbconvert_exporter": "python",
   "pygments_lexer": "ipython3",
   "version": "3.10.12"
  }
 },
 "nbformat": 4,
 "nbformat_minor": 5
}
