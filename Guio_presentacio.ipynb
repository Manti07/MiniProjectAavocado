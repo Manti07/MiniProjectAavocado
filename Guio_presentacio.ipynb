{
 "cells": [
  {
   "cell_type": "code",
   "execution_count": null,
   "id": "4566b8b5-d2f5-4b22-abbb-9badd101505b",
   "metadata": {},
   "outputs": [],
   "source": [
    "Autores: ...."
   ]
  },
  {
   "cell_type": "markdown",
   "id": "20b77873-6dfd-4d3b-9759-6794fbbf7301",
   "metadata": {},
   "source": [
    "### EDA"
   ]
  },
  {
   "cell_type": "markdown",
   "id": "aab21479-5519-4a36-8f09-69dde6034bd6",
   "metadata": {},
   "source": [
    "#### Normalización de datos y validación"
   ]
  },
  {
   "cell_type": "raw",
   "id": "757ab45f-5347-489e-a328-3ea7475cbafe",
   "metadata": {},
   "source": [
    "Clasificación de región en Regiones y Ciudades.\n",
    "Explorar datos fechas, nulos, columnas innecesarias.\n",
    "Discusión sobre qué hacer con los datos de semanas que faltan (interpolante)."
   ]
  },
  {
   "cell_type": "markdown",
   "id": "fe7370a1-4d10-4efb-bf68-10c1c9092807",
   "metadata": {},
   "source": [
    "#### Visión global de datos"
   ]
  },
  {
   "cell_type": "markdown",
   "id": "34d20ad4-76ba-420a-bc2e-5669caee797d",
   "metadata": {},
   "source": [
    "Analisis de Series Temporales y Ruido asociado\n",
    "Precios promedio calibre \n",
    "Precios promedio por bolsa\n",
    "Separar alvocats convencionals i alvocats orgànics\n",
    "Comparación precios promedio convencional y organico\n",
    "Representación de ventas totales sobre precio promedio ( por regiones o no )"
   ]
  },
  {
   "cell_type": "markdown",
   "id": "0c5aa662-d255-45f0-9281-2f221a36eee2",
   "metadata": {},
   "source": [
    "### ANALISIS"
   ]
  },
  {
   "cell_type": "markdown",
   "id": "50f15efe-2d06-486a-bc4d-4f4679974a10",
   "metadata": {},
   "source": [
    "#### Separar alvocats convencionals i alvocats orgànics"
   ]
  },
  {
   "cell_type": "markdown",
   "id": "410f1e5e-6277-44ba-8670-02f23a7f9aab",
   "metadata": {},
   "source": [
    "#### Impacte del preu en les vendes"
   ]
  },
  {
   "cell_type": "markdown",
   "id": "b6d751ef-4246-4b9b-a3d7-cd5875cd7cea",
   "metadata": {},
   "source": [
    "#### Elasticidad"
   ]
  },
  {
   "cell_type": "markdown",
   "id": "edaa99db-948c-4549-8772-acb13b6a62a1",
   "metadata": {},
   "source": [
    "#### Correlacion de les \"grans regions\" i regions amb volum total US"
   ]
  },
  {
   "cell_type": "markdown",
   "id": "68bd45dd-adad-43ec-b9b9-9589c8524398",
   "metadata": {},
   "source": [
    "#### Correlacion de volum total de les ciutats amb volum total US"
   ]
  },
  {
   "cell_type": "markdown",
   "id": "3a241231-da66-45b0-a1e9-312a097b8a68",
   "metadata": {},
   "source": [
    "#### Analisis por Cohortes"
   ]
  },
  {
   "cell_type": "markdown",
   "id": "25a22816-4593-48bc-881f-6e99bdffd32c",
   "metadata": {},
   "source": [
    "#### Matriz de correlaciones de todas las variables según  apartado 5.6. En especial, precio medio y relación con diferentes calibres."
   ]
  },
  {
   "cell_type": "markdown",
   "id": "8dd1949c-5d41-41e5-b6f8-8dd2998f74ad",
   "metadata": {},
   "source": [
    "#### Dispersión entre variables claves según 5.2"
   ]
  },
  {
   "cell_type": "markdown",
   "id": "bd0e0977-e5e3-4188-959d-6e07b1fcdedb",
   "metadata": {},
   "source": [
    "### REGRESIONES Y PROYECCIONES"
   ]
  },
  {
   "cell_type": "markdown",
   "id": "80cf10f8-550c-4a64-b03d-087a75aeb679",
   "metadata": {},
   "source": [
    "#### Creación del modelo de regresión"
   ]
  },
  {
   "cell_type": "markdown",
   "id": "4bace443-8ddb-46a7-8af6-ad1224d709bc",
   "metadata": {},
   "source": [
    "#### Creación de modelo predictivo de ventas por MES usando los datos de años anteriores ( lineal y polinomica ) usando Total US. Calculo R2\n",
    "##### Aplicación del modelo a los datos de una región\n",
    "##### Aplicación del modelo a los datos de una ciudad"
   ]
  },
  {
   "cell_type": "markdown",
   "id": "6a398acd-fd6a-425a-970b-9c092f6bb581",
   "metadata": {},
   "source": [
    "#### Creación de modelo predictivo de ventas por TRIMESTRE usando los datos de años anteriores ( lineal y polinomica ) Calculo R2"
   ]
  },
  {
   "cell_type": "markdown",
   "id": "a59b2fee-7725-4c09-944b-08fde59148bb",
   "metadata": {},
   "source": [
    "##### Idem."
   ]
  },
  {
   "cell_type": "markdown",
   "id": "2dc3b0bb-2e75-442d-bf52-99bc2a2f772a",
   "metadata": {},
   "source": [
    "##### Idem."
   ]
  },
  {
   "cell_type": "markdown",
   "id": "b25d9d7d-7f74-49e8-bbb6-c126f189db86",
   "metadata": {},
   "source": [
    "#### Creación de modelo predictivo de ventas por AÑO usando los datos de años anteriores ( lineal y polinomica ) Calculo R2"
   ]
  },
  {
   "cell_type": "markdown",
   "id": "2078943b-6b5c-4efa-a7e9-13b524426e5e",
   "metadata": {},
   "source": [
    "#### Modelos de regresión multiple entre todas las variables según  apartado 5.6. En especial, precio medio y relación con diferentes calibres.Precio vs Total Bags"
   ]
  },
  {
   "cell_type": "markdown",
   "id": "34bcd7b8-e5cf-4580-9993-c5303913d1d6",
   "metadata": {},
   "source": [
    "#### Analisis de coeficientes de regresion multiple. Afectación de cada variable al AvgPrice apartado 5.7"
   ]
  },
  {
   "cell_type": "markdown",
   "id": "ac85fcde-da51-4e8d-bde8-969d37c74269",
   "metadata": {},
   "source": [
    "#### Modelos de regresión para diferenciar volumenes de ventas Apartado 5.8 . Calibres y AveragePrice."
   ]
  },
  {
   "cell_type": "markdown",
   "id": "02ae63d1-b66d-48aa-94db-cdd51937a0e1",
   "metadata": {},
   "source": [
    "#### Creación de modelo de regresión y polinómica de ventas totales sobre precio promedio ( por regiones o no ) apartado 5.9"
   ]
  },
  {
   "cell_type": "markdown",
   "id": "82b9f52b-f3b1-4f7e-a029-822d36108ac8",
   "metadata": {},
   "source": [
    "#### Predicciones"
   ]
  },
  {
   "cell_type": "markdown",
   "id": "044bc252-a26d-4d42-9ed7-9ad00d910b10",
   "metadata": {},
   "source": [
    "#### Prediccion de precio promedio según volumen aguacates y por tipo ( y por calibres ??) . Lineal y Polinomica. Calculo de R2"
   ]
  }
 ],
 "metadata": {
  "kernelspec": {
   "display_name": "Python 3 (ipykernel)",
   "language": "python",
   "name": "python3"
  },
  "language_info": {
   "codemirror_mode": {
    "name": "ipython",
    "version": 3
   },
   "file_extension": ".py",
   "mimetype": "text/x-python",
   "name": "python",
   "nbconvert_exporter": "python",
   "pygments_lexer": "ipython3",
   "version": "3.10.12"
  }
 },
 "nbformat": 4,
 "nbformat_minor": 5
}
